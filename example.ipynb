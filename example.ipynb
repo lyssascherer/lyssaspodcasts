{
 "cells": [
  {
   "cell_type": "code",
   "execution_count": 1,
   "metadata": {},
   "outputs": [],
   "source": [
    "import pandas as pd"
   ]
  },
  {
   "cell_type": "code",
   "execution_count": 14,
   "metadata": {},
   "outputs": [],
   "source": [
    "# sample dataset for the example page\n",
    "df = pd.DataFrame(\n",
    "    [\n",
    "        [123, \"The Intelligence from The Economist\", \"Make ore break: Latin America’s commodities\", \"This podcast talks about x and y\", [\"main topic 1\", \"main topic 2\"], \"www.podcasts.com/123\"],\n",
    "        [456, \"The Intelligence from The Economist\", \"TThrough the fire: an update from Hawaii\", \"This podcast talks about x and y\", [\"main topic 1\", \"main topic 2\"], \"www.podcasts.com/456\"],\n",
    "        [456, \"The Really Good Podcast\", \"Tyga: “It’s random… it’s awkward”\", \"This podcast talks about x and y\", [\"main topic 1\", \"main topic 2\"], \"www.podcasts.com/456\"],\n",
    "     ],\n",
    "    columns=[\"id\", \"podcast_name\" , \"episode_title\", \"episode_summary\", \"episode_key_points\", \"episode_url\"]\n",
    ")\n",
    "\n",
    "df.to_csv(\"data/available_podcasts.csv\", index=False)\n"
   ]
  },
  {
   "cell_type": "code",
   "execution_count": 13,
   "metadata": {},
   "outputs": [
    {
     "data": {
      "text/plain": [
       "'The Intelligence from The Economist'"
      ]
     },
     "execution_count": 13,
     "metadata": {},
     "output_type": "execute_result"
    }
   ],
   "source": [
    "podcast_name = \"The Intelligence from The Economist\"\n",
    "atest_episodes = df[df[\"podcast_name\"]==podcast_name].sort_values(by=\"id\", ascending=False).reset_index().iloc[0]\n",
    "atest_episodes[\"podcast_name\"]"
   ]
  },
  {
   "cell_type": "code",
   "execution_count": 27,
   "metadata": {},
   "outputs": [
    {
     "name": "stdout",
     "output_type": "stream",
     "text": [
      "main topic 1\n",
      "main topic 2\n"
     ]
    }
   ],
   "source": [
    "for key_points in episode['episode_key_points']:\n",
    "    print(key_points)"
   ]
  },
  {
   "cell_type": "code",
   "execution_count": null,
   "metadata": {},
   "outputs": [],
   "source": [
    "from ast import literal_eval\n",
    "df['column_2'] = df.column_1.apply(lambda x: literal_eval(str(x)))"
   ]
  }
 ],
 "metadata": {
  "kernelspec": {
   "display_name": "base",
   "language": "python",
   "name": "python3"
  },
  "language_info": {
   "codemirror_mode": {
    "name": "ipython",
    "version": 3
   },
   "file_extension": ".py",
   "mimetype": "text/x-python",
   "name": "python",
   "nbconvert_exporter": "python",
   "pygments_lexer": "ipython3",
   "version": "3.10.10"
  },
  "orig_nbformat": 4
 },
 "nbformat": 4,
 "nbformat_minor": 2
}
